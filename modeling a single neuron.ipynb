{
 "cells": [
  {
   "cell_type": "markdown",
   "id": "df859cfd-a5b1-498e-84a4-643a9d78f665",
   "metadata": {},
   "source": [
    "# Welcome to programming models in brian2!\n",
    "\n",
    "brian2 is a python library that allows computational neural modeling in python. To import all of the tools we're going to use, run the following:"
   ]
  },
  {
   "cell_type": "code",
   "execution_count": null,
   "id": "470219b6-4de7-4678-825c-9b13cffde868",
   "metadata": {},
   "outputs": [],
   "source": [
    "from brian2 import *\n",
    "%matplotlib inline"
   ]
  },
  {
   "cell_type": "markdown",
   "id": "b7605812-34ad-4445-a0c1-539f3d4c9456",
   "metadata": {},
   "source": [
    "The first line imports *all* of the necessary components to run neural simulations on this machine. \n",
    "\n",
    "### **This is different from the standard \"import library\" call.** \n",
    "\n",
    "With this command, python loads all of the materials from brian2 as they are named in brian2 -- that way you don't have to do the standard \"library.function\" call of \"function\" later.\n",
    "\n",
    "The second line tells our graphs to plot inline and will become useful later.\n",
    "\n",
    "For example, the brian2 libary imported this way loads unit types:"
   ]
  },
  {
   "cell_type": "code",
   "execution_count": null,
   "id": "9b1660be-82a4-486e-ae2d-f1e5533c0dbd",
   "metadata": {},
   "outputs": [],
   "source": [
    "20*volt"
   ]
  },
  {
   "cell_type": "markdown",
   "id": "57eb4e3d-0d34-4019-a96a-489c33df0557",
   "metadata": {},
   "source": [
    "These values even relate to each other as they would in actual physics equations. For example, recall the relationship between voltage, current, and resistance:\n",
    "\n",
    "$V = I * R$\n",
    "\n",
    "Here, you can run actual computations using these units:"
   ]
  },
  {
   "cell_type": "code",
   "execution_count": null,
   "id": "ffbb2709-daca-468c-9537-56f09d4f4938",
   "metadata": {},
   "outputs": [],
   "source": [
    "3*amp * 2*ohm"
   ]
  },
  {
   "cell_type": "markdown",
   "id": "9e135e80-d2bb-406a-8f6c-c03dfe1d9fb7",
   "metadata": {},
   "source": [
    "These mathematical operations are also dependent on the scale of the units in use:"
   ]
  },
  {
   "cell_type": "code",
   "execution_count": null,
   "id": "b597fa45-6fe1-4778-beb5-3c3872359cc0",
   "metadata": {},
   "outputs": [],
   "source": [
    "3*mamp * 2*mohm"
   ]
  },
  {
   "cell_type": "markdown",
   "id": "5fa9a1ae-004a-4912-a802-6a296aa73534",
   "metadata": {},
   "source": [
    "So, if we want to calculate the current moving across a neuron membrane at rest, we can calculate that by dividing the neuron's resting voltage (e.g. -70 mV) by its membrane resistance (e.g. 10 MOhm)"
   ]
  },
  {
   "cell_type": "code",
   "execution_count": null,
   "id": "93b86d38-8f16-49a6-9821-d85aadf78aa3",
   "metadata": {},
   "outputs": [],
   "source": [
    "(-70*mV)/(10*Mohm)"
   ]
  },
  {
   "cell_type": "markdown",
   "id": "86dd6b0c-2a78-439b-87a1-987da3b27f73",
   "metadata": {},
   "source": [
    "All of this is useful because it lets us write and run equations describing the behavior of our modeled neurons using real values for our physical paramaters. So in the equation we've been exploring thus far: \n",
    "\\begin{equation}\n",
    "\\frac{dv}{dt} = \\bigg(\\frac{1}{C_m}\\bigg)\\bigg(\\frac{v_0-v}{R_m} + I\\bigg)\n",
    "\\end{equation}\n",
    "\n",
    "we can define real values of the membrane capacitance, membrane resistance, and reset (or base resting) voltage of the membrane. If we tailor these values to observations from real animals, we can tune this model to behave similarly to any particular species.\n",
    "\n",
    "For now, let's define these variables by commonly used measurements."
   ]
  },
  {
   "cell_type": "code",
   "execution_count": null,
   "id": "0544df67-b35c-4a9d-8d02-333b055d2954",
   "metadata": {},
   "outputs": [],
   "source": [
    "Cap_mem = 0.002*uF\n",
    "v_0 = -70*mV \n",
    "Resist_mem = 10*Mohm"
   ]
  },
  {
   "cell_type": "markdown",
   "id": "a731db95-610a-45ef-8763-1d32e901528c",
   "metadata": {},
   "source": [
    "To pass our neuron model equation to brian2, we need to define it inside of a string. The easiest way to do this is as a multiline string using three single ' marks on separate lines above and below the equation."
   ]
  },
  {
   "cell_type": "code",
   "execution_count": null,
   "id": "aa62ece0-1766-4656-a58b-85b63e3edf1c",
   "metadata": {},
   "outputs": [],
   "source": [
    "neuron_equation = '''\n",
    "dv/dt = (1/Cap_mem) * (((v_0 - v)/Resist_mem) + I_var) : volt (unless refractory)\n",
    "'''"
   ]
  },
  {
   "cell_type": "markdown",
   "id": "8997ec5f-b0d5-42b8-abec-343fb6647d46",
   "metadata": {},
   "source": [
    "In addition to an inline version of our equation referencing our defined constants, we also need to add \" : volt (unless refractory)\" -- this is a sign to brian2 to: \n",
    "    1. solve for voltage \n",
    "    2. solve for all times when the neuron is not in a refractory period\n",
    "\n",
    "### Next, let's set up a longer block for running a simple neural simulation.\n",
    "To do so, we'll:\n",
    "1. define our variable current value (I_var)\n",
    "2. start our simulation scope\n",
    "3. define a neuron group containing our only simulated neuron referencing all equations and variables necessary to run\n",
    "4. defne our neuron's starting voltage\n",
    "5. start a monitor of this neuron's voltage\n",
    "6. run the equation for a set period of time\n",
    "7. plot our monitor of the neuron's voltage"
   ]
  },
  {
   "cell_type": "code",
   "execution_count": null,
   "id": "865ee150-8504-48e1-91dc-68df2e68c9b5",
   "metadata": {},
   "outputs": [],
   "source": [
    "I_var = 2*namp\n",
    "\n",
    "start_scope()\n",
    "\n",
    "neuron_number = 1\n",
    "threshold_voltage = 'v > -55*mV'\n",
    "reset_v = 'v = v_0'\n",
    "refractory_period = 2*ms\n",
    "solution_method = 'heun'\n",
    "sim_neuron = NeuronGroup(neuron_number, neuron_equation, threshold = threshold_voltage, \n",
    "                         reset = reset_v, refractory = refractory_period, method = 'heun')\n",
    "sim_neuron.v = v_0\n",
    "\n",
    "voltage_mon = StateMonitor(sim_neuron, 'v', record=True)\n",
    "\n",
    "run(100*ms)\n",
    "\n",
    "plot(voltage_mon.t/ms, voltage_mon.v[0])"
   ]
  },
  {
   "cell_type": "markdown",
   "id": "3e1594b5-b96f-49a0-ad4b-9ea538edb281",
   "metadata": {},
   "source": [
    "### Now, let's try adding a spike monitor to the same code block to keep track of when action potentials occur"
   ]
  },
  {
   "cell_type": "code",
   "execution_count": null,
   "id": "e0afbcaa-6ce8-4ef2-ab12-ff834a748569",
   "metadata": {},
   "outputs": [],
   "source": [
    "I_var = 2*namp\n",
    "\n",
    "start_scope()\n",
    "\n",
    "neuron_number = 1\n",
    "threshold_voltage = 'v > -55*mV'\n",
    "reset_v = 'v = v_0'\n",
    "refractory_period = 2*ms\n",
    "solution_method = 'heun'\n",
    "sim_neuron = NeuronGroup(neuron_number, neuron_equation, threshold = threshold_voltage, \n",
    "                         reset = reset_v, refractory = refractory_period, method = 'heun')\n",
    "sim_neuron.v = v_0\n",
    "\n",
    "voltage_mon = StateMonitor(sim_neuron, 'v', record=True)\n",
    "spike_mon = SpikeMonitor(sim_neuron, record=True)\n",
    "\n",
    "run(100*ms)\n",
    "\n",
    "plot(voltage_mon.t/ms, voltage_mon.v[0])\n",
    "plot(spike_mon.t/ms, spike_mon.i, '.')"
   ]
  },
  {
   "cell_type": "markdown",
   "id": "958283c6-3466-4e2f-a98c-7babca2930a4",
   "metadata": {
    "editable": true,
    "slideshow": {
     "slide_type": ""
    },
    "tags": []
   },
   "source": [
    "### For a final edit of this basic simulation form, let's make the graph a little prettier.\n",
    "\n",
    "To do that, we'll make the graphing function input lines at the action potential and define and label the scales of the x and y axes."
   ]
  },
  {
   "cell_type": "code",
   "execution_count": null,
   "id": "471b80c3-e254-4986-9386-56ea8a0558d2",
   "metadata": {},
   "outputs": [],
   "source": [
    "I_var = 2*namp\n",
    "\n",
    "start_scope()\n",
    "\n",
    "neuron_number = 1\n",
    "threshold_voltage = 'v > -55*mV'\n",
    "reset_v = 'v = v_0'\n",
    "refractory_period = 2*ms\n",
    "solution_method = 'heun'\n",
    "sim_neuron = NeuronGroup(neuron_number, neuron_equation, threshold = threshold_voltage, \n",
    "                         reset = reset_v, refractory = refractory_period, method = 'heun')\n",
    "sim_neuron.v = v_0\n",
    "\n",
    "voltage_mon = StateMonitor(sim_neuron, 'v', record=True)\n",
    "spike_mon = SpikeMonitor(sim_neuron, record=True)\n",
    "\n",
    "run(100*ms)\n",
    "\n",
    "plot(voltage_mon.t/ms, voltage_mon.v[0])\n",
    "for t in spike_mon.t:\n",
    "    axvline(t/ms, c='b', lw=1)\n",
    "ylim(-0.1, 0.04)\n",
    "xlabel('Time (ms)')\n",
    "ylabel('v')"
   ]
  },
  {
   "cell_type": "markdown",
   "id": "2e0f593d-2205-4c42-8ab8-3b51e5faaa4d",
   "metadata": {},
   "source": [
    "## Now we have a basic code block that can simulate a single neuron. Now **y'all** should modify features of the neuron to see how that changes its performance.\n",
    "### At this point in the code, do the following:\n",
    "1. Copy the cell above and move it below this one.\n",
    "2. Change the current value to higher and lower values -- how does this change performance?\n",
    "3. Change the threshold to higher and lower values -- how does this change performance?\n",
    "4. Modify the refractory period -- how does this affect performance? Is this indicative of relative or absolute refractory period?"
   ]
  }
 ],
 "metadata": {
  "kernelspec": {
   "display_name": "Python 3 (ipykernel)",
   "language": "python",
   "name": "python3"
  },
  "language_info": {
   "codemirror_mode": {
    "name": "ipython",
    "version": 3
   },
   "file_extension": ".py",
   "mimetype": "text/x-python",
   "name": "python",
   "nbconvert_exporter": "python",
   "pygments_lexer": "ipython3",
   "version": "3.11.7"
  }
 },
 "nbformat": 4,
 "nbformat_minor": 5
}
